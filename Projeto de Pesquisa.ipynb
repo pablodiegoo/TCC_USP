{
 "cells": [
  {
   "cell_type": "markdown",
   "metadata": {},
   "source": []
  },
  {
   "cell_type": "markdown",
   "metadata": {},
   "source": [
    "\n",
    "**Aluno(a): Pablo Diego de Albuquerque Pereira**\n",
    "\n",
    "**Orientador(a):**\n",
    "\n",
    "**Curso:** MBA Data Science & Analytics\n",
    "\n",
    "# Machine Learning como Motor da Evolução em Estratégias Long and Short.\n",
    "\n",
    "## Introdução\n",
    "\n",
    "\n",
    "\n",
    "## Objetivo\n",
    "\n",
    "## Metodologia\n",
    "\n",
    "## Cronograma de Atividades\n",
    "\n",
    "Atividades Planejadas | Mar | Abr | Mai | Jun | Jul | Ago | Set | Out | Nov | Dez | Jan\n",
    "--- | --- | --- | --- | --- | --- | --- | --- | --- | --- | --- | ---\n",
    "Projeto de Pesquisa | X\n",
    "Revisão da Literatura X|X|X|X|X|X|X|X\n",
    "Coleta e Tratamento dos dados ||X\n",
    "Modelagem e Testes |||X\n",
    "Treinamento e ajuste dos modelos ||||X\n",
    "Resultados Preliminares ||||X\n",
    "Ajuste da Escrita do TCC ||||||X\n",
    "Redação e Revisão do TCC |||||||X\n",
    "Entrega do TCC e Defesa |||||||X\n",
    "Defesa do TCC ||||||||||X\n",
    "\n",
    "**Referências** \n",
    "- Hull, John C. Options, Futures, and Other Derivatives\n",
    "- Alexander, Carol. Market Models\n",
    "- Géron, Aurélien. Hands-On Machine Learning with Scikit-Learn, Keras & TensorFlow\n",
    "- López de Prado, M. (2018). Advances in Financial Machine Learning. Wiley.\n",
    "- Ardia, David, and Boudt, Kris. Financial Prediction Using Machine Learning\n",
    "- O Homem que Venceu o Mercado\n",
    "- Desafio aos Deuses\n",
    "- Papers do Journal of Financial Data Science e Quantitative Finance\n",
    "- Chan, E. P. (2017). Machine Trading: Deploying Computer Algorithms to Conquer the Markets. Wiley.\n",
    "\n",
    "- Krauss, C., Do, X. A., Huck, N. (2017). Deep neural networks, gradient-boosted trees, random forests: Statistical arbitrage on the S&P 500. European Journal of Operational Research, 259(2), 689-702.\n",
    "\n",
    "- Gatev, Evans, and Brooks (2006). Pairs Trading: Performance of a Relative Value Arbitrage Rule\n",
    "- Engle, R. and Granger, C. (1987) Cointegration and Error Correction: Representation, Estimation and Testing. Econometrica, 55, 251-276.\n",
    "- Avellaneda, M., Lee, J. H. (2010). Statistical Arbitrage in the US Equities Market. Quantitative Finance, 10(7), 761-782.\n",
    "- Focardi, S. M., Fabozzi, F. J. (2004). The Mathematics of Financial Modeling and Investment Management. Wiley."
   ]
  }
 ],
 "metadata": {
  "kernelspec": {
   "display_name": "base",
   "language": "python",
   "name": "python3"
  },
  "language_info": {
   "name": "python",
   "version": "3.11.5"
  }
 },
 "nbformat": 4,
 "nbformat_minor": 2
}
